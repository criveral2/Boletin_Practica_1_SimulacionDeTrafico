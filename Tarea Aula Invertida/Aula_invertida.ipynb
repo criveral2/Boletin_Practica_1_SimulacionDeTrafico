{
  "nbformat": 4,
  "nbformat_minor": 0,
  "metadata": {
    "colab": {
      "name": "Aula invertida",
      "provenance": [],
      "collapsed_sections": []
    },
    "kernelspec": {
      "name": "python3",
      "display_name": "Python 3"
    },
    "language_info": {
      "name": "python"
    }
  },
  "cells": [
    {
      "cell_type": "markdown",
      "source": [
        "#Universidad Politecnica Salesiana\n",
        "#Nombre: Christian Rivera"
      ],
      "metadata": {
        "id": "6sNOu6Gb8TiU"
      }
    },
    {
      "cell_type": "code",
      "source": [
        "# importando modulos necesarios\n",
        "%matplotlib inline\n",
        "\n",
        "import matplotlib.pyplot as plt\n",
        "import numpy as np \n",
        "from scipy import stats \n",
        "import seaborn as sns "
      ],
      "metadata": {
        "id": "f2D_k-ueB4HY"
      },
      "execution_count": 2,
      "outputs": []
    },
    {
      "cell_type": "markdown",
      "source": [
        ""
      ],
      "metadata": {
        "id": "BRiGt54L8nvR"
      }
    },
    {
      "cell_type": "markdown",
      "source": [
        "##Hipergeometrica\n",
        "#Introduccion\n",
        "La distribución hipergeométrica es una distribución discreta que modela el número de eventos en una muestra de tamaño fijo cuando usted conoce el número total de elementos en la población de la cual proviene la muestra. Cada elemento de la muestra tiene dos resultados posibles (es un evento o un no evento). Las muestras no tienen reemplazo, por lo que cada elemento de la muestra es diferente. Cuando se elige un elemento de la población, no se puede volver a elegir. Por lo tanto, la probabilidad de que un elemento sea seleccionado aumenta con cada ensayo, presuponiendo que aún no haya sido seleccionado.\n",
        "\n",
        "#Descripcion\n",
        "Las consideraciones a tener en cuenta en una distribución hipergeométrica:\n",
        "El proceso consta de \"n\" pruebas, separadas o separables de entre un conjunto de \"N\" pruebas posibles.\n",
        "\n",
        "Cada una de las pruebas puede dar únicamente dos resultados mutuamente excluyentes.\n",
        "\n",
        "El número de individuos que presentan la característica A (éxito) es \"k\".\n",
        "En la primera prueba las probabilidades son: P(A)= p y P(A)= q; con p+q=1.\n",
        "\n",
        "En estas condiciones, se define la variable aleatoria X = “nº de éxitos obtenidos”. La función de probabilidad de esta variable sería:\n",
        "\n",
        "<img alt=\"Distribucion Hipergeometrica\" title=\"Distribuciones Hipergeometrica\" src=\"https://proyectodescartes.org/iCartesiLibri/materiales_didacticos/EstadisticaProbabilidadInferencia/VAdiscreta/4_1DistribucionHipergeometrica/img/FormulaHipergeometrica.png\" high=650px width=600px>\n",
        "\n",
        "\n",
        "#Ejemplo de uso:"
      ],
      "metadata": {
        "id": "YXhpjWlw8oLi"
      }
    },
    {
      "cell_type": "code",
      "execution_count": 3,
      "metadata": {
        "colab": {
          "base_uri": "https://localhost:8080/",
          "height": 295
        },
        "id": "yoZAGBpz8Ke6",
        "outputId": "9577fa66-8d24-4a2e-cacf-0fecf3602f83"
      },
      "outputs": [
        {
          "output_type": "display_data",
          "data": {
            "image/png": "[encoded data removed]",
            "text/plain": [
              "<Figure size 432x288 with 1 Axes>"
            ]
          },
          "metadata": {
            "needs_background": "light"
          }
        }
      ],
      "source": [
        "\n",
        "# Graficando Hipergeométrica\n",
        "M, n, N = 30, 10, 12 # parametros de forma \n",
        "hipergeometrica = stats.hypergeom(M, n, N) # Distribución\n",
        "x = np.arange(0, n+1)\n",
        "fmp = hipergeometrica.pmf(x) # Función de Masa de Probabilidad\n",
        "plt.plot(x, fmp, '--')\n",
        "plt.vlines(x, 0, fmp, colors='b', lw=5, alpha=0.5)\n",
        "plt.title('Distribución Hipergeométrica')\n",
        "plt.ylabel('probabilidad')\n",
        "plt.xlabel('valores')\n",
        "plt.show()"
      ]
    },
    {
      "cell_type": "code",
      "source": [
        "\n",
        "# histograma\n",
        "aleatorios = hipergeometrica.rvs(1000)  # genera aleatorios\n",
        "cuenta, cajas, ignorar = plt.hist(aleatorios, 20)\n",
        "plt.ylabel('frequencia')\n",
        "plt.xlabel('valores')\n",
        "plt.title('Histograma Hipergeométrica')\n",
        "plt.show()"
      ],
      "metadata": {
        "colab": {
          "base_uri": "https://localhost:8080/",
          "height": 295
        },
        "id": "uuCfL8D2CN7F",
        "outputId": "8776944e-2305-466b-e75d-b30a1a10df1c"
      },
      "execution_count": 4,
      "outputs": [
        {
          "output_type": "display_data",
          "data": {
            "image/png": "[encoded data removed]",
            "text/plain": [
              "<Figure size 432x288 with 1 Axes>"
            ]
          },
          "metadata": {
            "needs_background": "light"
          }
        }
      ]
    },
    {
      "cell_type": "markdown",
      "source": [
        "##Uniforme\n",
        "#Introduccion\n",
        "La distribución uniforme es una distribución continua que modela un rango de valores con igual probabilidad. La distribución uniforme se especifica mediante cotas inferior y superior.\n",
        "\n",
        "#Descripcion\n",
        "Utilice la distribución uniforme para describir variables continuas que tienen una probabilidad constante.\n",
        "\n",
        "La función de probabilidad de esta variable sería:\n",
        "\n",
        "<img alt=\"Distribucion Uniforme\" title=\"Distribuciones Uniforme\" src=\"http://neetescuela.org/wp-content/uploads/2012/11/17.jpg\" high=650px width=600px>\n",
        "\n",
        "#Ejemplo de uso:"
      ],
      "metadata": {
        "id": "v_h0AHZ48tc4"
      }
    },
    {
      "cell_type": "code",
      "source": [
        "# Graficando Uniforme\n",
        "uniforme = stats.uniform()\n",
        "x = np.linspace(uniforme.ppf(0.01),\n",
        "                uniforme.ppf(0.99), 100)\n",
        "fp = uniforme.pdf(x) # Función de Probabilidad\n",
        "fig, ax = plt.subplots()\n",
        "ax.plot(x, fp, '--')\n",
        "ax.vlines(x, 0, fp, colors='b', lw=5, alpha=0.5)\n",
        "ax.set_yticks([0., 0.2, 0.4, 0.6, 0.8, 1., 1.2])\n",
        "plt.title('Distribución Uniforme')\n",
        "plt.ylabel('probabilidad')\n",
        "plt.xlabel('valores')\n",
        "plt.show()"
      ],
      "metadata": {
        "colab": {
          "base_uri": "https://localhost:8080/",
          "height": 295
        },
        "id": "VRGZNuo88vzk",
        "outputId": "43f52666-6e98-48e0-dc5f-4c21904d69e5"
      },
      "execution_count": 5,
      "outputs": [
        {
          "output_type": "display_data",
          "data": {
            "image/png": "[encoded data removed]",
            "text/plain": [
              "<Figure size 432x288 with 1 Axes>"
            ]
          },
          "metadata": {
            "needs_background": "light"
          }
        }
      ]
    },
    {
      "cell_type": "code",
      "source": [
        "\n",
        "# histograma\n",
        "aleatorios = uniforme.rvs(1000) # genera aleatorios\n",
        "cuenta, cajas, ignorar = plt.hist(aleatorios, 20)\n",
        "plt.ylabel('frequencia')\n",
        "plt.xlabel('valores')\n",
        "plt.title('Histograma Uniforme')\n",
        "plt.show()"
      ],
      "metadata": {
        "colab": {
          "base_uri": "https://localhost:8080/",
          "height": 295
        },
        "id": "hs05rXFuE9z6",
        "outputId": "228bd53c-e8a0-4107-8402-38f09710ecb6"
      },
      "execution_count": 6,
      "outputs": [
        {
          "output_type": "display_data",
          "data": {
            "image/png": "[encoded data removed]",
            "text/plain": [
              "<Figure size 432x288 with 1 Axes>"
            ]
          },
          "metadata": {
            "needs_background": "light"
          }
        }
      ]
    },
    {
      "cell_type": "markdown",
      "source": [
        "##Binomial Negativa\n",
        "#Introduccion\n",
        "La distribución binomial negativa es una distribución discreta que modela el número de ensayos necesarios para producir un número específico de eventos. Cada ensayo tiene dos resultados posibles. El evento es el resultado de interés en un ensayo. La distribución binomial negativa también puede modelar el número de no eventos que deben ocurrir para que se observe el número especificado de resultados.\n",
        "\n",
        "#Descripcion\n",
        "Este proceso consta de varias condiciones:\n",
        "\n",
        "El proceso tiene un número indefinido de pruebas y este concluirá cuando se tenga un número determinado de resultados favorables r.\n",
        "\n",
        "Las pruebas pueden dar dos resultados posibles y excluyentes a su vez, es decir, A y no A.\n",
        "\n",
        "La probabilidad de obtener un resultado A en las pruebas es p, y la de conseguir no A es q, de forma que p+q=1.\n",
        "\n",
        "p y q son constantes en cada prueba y a su vez estas son independientes.\n",
        "\n",
        "Derivación de la distribución: si la variable aleatoria X es \"el número de pruebas necesarias para conseguir x éxitos o resultados A \" ; entonces X seguirá una distribución binomial negativa con parámetros p y r.\n",
        "\n",
        "\n",
        "\n",
        "#Ejemplo de uso:"
      ],
      "metadata": {
        "id": "cj3NVFb68wwA"
      }
    },
    {
      "cell_type": "code",
      "source": [
        "import numpy as np  \n",
        "import matplotlib.pyplot as plt  \n",
        "from scipy.stats import nbinom  \n",
        "    \n",
        "numargs = nbinom .numargs  \n",
        "a, b = 0.2, 0.8\n",
        "rv = nbinom(a, b)  \n",
        "    \n",
        "     \n",
        "distribution = np.linspace(0, np.minimum(rv.dist.b, 2))  \n",
        "print(\"Distribution : \\n\", distribution)  \n",
        "     \n",
        "plot = plt.plot(distribution, rv.ppf(distribution)) "
      ],
      "metadata": {
        "colab": {
          "base_uri": "https://localhost:8080/",
          "height": 447
        },
        "id": "Fe68939W8y-0",
        "outputId": "1883fdcc-2aee-4a6e-cde2-2359ebb83aa5"
      },
      "execution_count": 8,
      "outputs": [
        {
          "output_type": "stream",
          "name": "stdout",
          "text": [
            "Distribution : \n",
            " [0.         0.04081633 0.08163265 0.12244898 0.16326531 0.20408163\n",
            " 0.24489796 0.28571429 0.32653061 0.36734694 0.40816327 0.44897959\n",
            " 0.48979592 0.53061224 0.57142857 0.6122449  0.65306122 0.69387755\n",
            " 0.73469388 0.7755102  0.81632653 0.85714286 0.89795918 0.93877551\n",
            " 0.97959184 1.02040816 1.06122449 1.10204082 1.14285714 1.18367347\n",
            " 1.2244898  1.26530612 1.30612245 1.34693878 1.3877551  1.42857143\n",
            " 1.46938776 1.51020408 1.55102041 1.59183673 1.63265306 1.67346939\n",
            " 1.71428571 1.75510204 1.79591837 1.83673469 1.87755102 1.91836735\n",
            " 1.95918367 2.        ]\n"
          ]
        },
        {
          "output_type": "display_data",
          "data": {
            "image/png": "[encoded data removed]",
            "text/plain": [
              "<Figure size 432x288 with 1 Axes>"
            ]
          },
          "metadata": {
            "needs_background": "light"
          }
        }
      ]
    },
    {
      "cell_type": "code",
      "source": [
        ""
      ],
      "metadata": {
        "id": "SjSCGPkEKUMu"
      },
      "execution_count": null,
      "outputs": []
    }
  ]
}